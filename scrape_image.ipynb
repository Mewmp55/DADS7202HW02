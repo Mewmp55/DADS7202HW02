{
  "nbformat": 4,
  "nbformat_minor": 0,
  "metadata": {
    "colab": {
      "provenance": [],
      "include_colab_link": true
    },
    "kernelspec": {
      "name": "python3",
      "display_name": "Python 3"
    },
    "language_info": {
      "name": "python"
    }
  },
  "cells": [
    {
      "cell_type": "markdown",
      "metadata": {
        "id": "view-in-github",
        "colab_type": "text"
      },
      "source": [
        "<a href=\"https://colab.research.google.com/github/Mewmp55/DADS7202HW02/blob/main/scrape_image.ipynb\" target=\"_parent\"><img src=\"https://colab.research.google.com/assets/colab-badge.svg\" alt=\"Open In Colab\"/></a>"
      ]
    },
    {
      "cell_type": "code",
      "execution_count": null,
      "metadata": {
        "id": "93MsfXzO6RlC"
      },
      "outputs": [],
      "source": [
        "!pip install git+https://github.com/Joeclinton1/google-images-download.git"
      ]
    },
    {
      "cell_type": "code",
      "source": [
        "import os\n",
        "import shutil\n",
        "import copy\n",
        "import time\n",
        "\n",
        "import cv2\n",
        "from google.colab.patches import cv2_imshow\n",
        "from PIL import Image\n",
        "\n",
        "from skimage import io\n",
        "import requests\n",
        "from google_images_download import google_images_download\n",
        "\n",
        "import numpy as np\n",
        "import torch\n",
        "from torch import nn\n",
        "import torch.optim as optim\n",
        "from torch.optim import lr_scheduler\n",
        "from torchvision import datasets, models, transforms\n",
        "\n",
        "import matplotlib.pyplot as plt"
      ],
      "metadata": {
        "id": "iM09O1wN6UmO"
      },
      "execution_count": null,
      "outputs": []
    },
    {
      "cell_type": "markdown",
      "source": [
        "1 - เก็บข้อมูล\n",
        "ฟังก์ชันที่ใช้ในการเก็บข้อมูล จะไปเสิร์ชหารูปภาพตามคีย์เวิร์ดจากกูเกิ้ลและดาวน์โหลดออกมา จากนั้นรูปภาพที่เสิร์ชหามาได้ก็จะถูกแบ่งเก็บไว้เป็นโฟลเดอร์ train กับ test พร้อมกับแบ่งโฟลเดอร์คลาสให้โดยอัตโนมัติ\n",
        "\n",
        "พารามิเตอร์\n",
        "query : เอาไว้ใช้ใส่คีย์เวิร์ดเพื่อใช้ในการหารูป สามารถใส่หลายคีย์เวิร์ดได้โดยการใช้เครื่องหมาย , (comma) คั่น เช่น dog, cat\n",
        "number : จำนวนรูปภาพที่ต้องการหาแต่ละคีย์เวิร์ด\n",
        "train_ratio : ใส่ค่าตั้งแต่ 0 ถึง 1 เป็นอัตราส่วนของ training set ต่อจำนวนข้อมูลทั้งหมด"
      ],
      "metadata": {
        "id": "d27dIxgJ6bU1"
      }
    },
    {
      "cell_type": "code",
      "source": [
        "def collect_data(query, number = 50, train_ratio=0.7) :\n",
        "  # ลบเว้นวรรค\n",
        "  query = query.replace(' ','')\n",
        "  classes = query.split(',')\n",
        "  \n",
        "  # ค้นหาและดาวน์โหลดรูปภาพจากกูเกิ้ล\n",
        "  response = google_images_download.googleimagesdownload()\n",
        "  arguments = {'keywords' : query, \n",
        "              'limit' : number, \n",
        "              'silent_mode' : True,\n",
        "              'format' : 'jpg',\n",
        "              'output_directory' : 'data'}\n",
        "  paths = response.download(arguments)\n",
        "\n",
        "  # สร้างโฟลเดอร์สำหรับแบ่ง training set กับ test set\n",
        "  if not os.path.isdir('data/train') :\n",
        "    os.mkdir('data/train')\n",
        "  if not os.path.isdir('data/test') :\n",
        "    os.mkdir('data/test')\n",
        "  for x in classes :\n",
        "    if not os.path.isdir('data/train/'+x) :\n",
        "      os.mkdir('data/train/'+x)\n",
        "  \n",
        "  # แบ่ง training set กับ test set\n",
        "  n_train = int(train_ratio*number)\n",
        "  for x in classes :\n",
        "    files = os.listdir('data/' + x)\n",
        "    for i in range(n_train) :\n",
        "      shutil.move('data/' + x + '/' + files[i], 'data/train/' + x + '/')\n",
        "    shutil.move('data/' + x, 'data/test/')\n",
        "  \n",
        "  print('Complete')"
      ],
      "metadata": {
        "id": "SINM1k3j6XY4"
      },
      "execution_count": null,
      "outputs": []
    },
    {
      "cell_type": "code",
      "source": [
        "collect_data('durian', number = 88)"
      ],
      "metadata": {
        "id": "d-4brioz6hs3"
      },
      "execution_count": null,
      "outputs": []
    },
    {
      "cell_type": "code",
      "source": [],
      "metadata": {
        "id": "uw2YqK4c6jwh"
      },
      "execution_count": null,
      "outputs": []
    }
  ]
}